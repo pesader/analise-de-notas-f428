{
 "cells": [
  {
   "cell_type": "markdown",
   "id": "0e9ab966-bcf6-4037-b0d1-c6ac37d49eaf",
   "metadata": {},
   "source": [
    "# Análise de Notas em F428 - Física Teórica IV 2s/2022"
   ]
  },
  {
   "cell_type": "markdown",
   "id": "69071ee3-3449-44fc-97c7-b5ae944189b8",
   "metadata": {},
   "source": [
    "Minha nota na P1 de F428 foi baixíssima. Tão baixa que os físicos chamariam de \"desprezível\".\n",
    "\n",
    "Isso me fez pensar: \"A prova que estava difícil ou eu que sou burro (ou os dois)?\" Pra sanar essa dúvida, decidi analisar a planilha de notas que foi disponibilizada no moodle.\n",
    "\n",
    "Isso foi feito usando Python, Jupyter Lab, e Voilà. Caso tenha curiosidade, o código que gerou essa página pode ser conferido nesse link e é livre para reúso."
   ]
  },
  {
   "cell_type": "markdown",
   "id": "88f7ef3b-24d1-4510-b755-ad2313ac5f16",
   "metadata": {},
   "source": [
    "## Parte I: Obtendo os Dados\n",
    "\n",
    "A primeira tarefa foi obter uma cópia local da planilha de notas disponibilizada no moodle. Não havia opção de \"Download\" à vista, mas pressionar `Ctrl + s` resolveu o problema. Depois de baixar a planilha, abri ela no Libre Office Calc pra fazer algumas correções manuais e pra converter o arquvo para o formato *open document sheet* (.ods).\n",
    "\n",
    "Feito isso, foi possível ler e tratar os dados."
   ]
  },
  {
   "cell_type": "code",
   "execution_count": null,
   "id": "684f4604-36f9-4df2-9da2-ce29352aa463",
   "metadata": {},
   "outputs": [],
   "source": [
    "# importar módulos necessários\n",
    "import matplotlib.pyplot as plt\n",
    "import matplotlib.ticker as mtick\n",
    "import ipywidgets as widgets\n",
    "import pandas as pd\n",
    "import numpy as np\n",
    "import seaborn\n",
    "import os"
   ]
  },
  {
   "cell_type": "code",
   "execution_count": null,
   "id": "30ac6a65-43d4-4175-82ab-22a5eedee20e",
   "metadata": {},
   "outputs": [],
   "source": [
    "# ler dados do arquivo ods\n",
    "DATA_DIR:str = \"data\"\n",
    "df:pd.DataFrame = pd.read_excel(os.path.join(DATA_DIR, \"notas.ods\"), engine=\"odf\", decimal=\",\")"
   ]
  },
  {
   "cell_type": "code",
   "execution_count": null,
   "id": "64c2f95f-ec79-4748-b4b9-716e2758e59c",
   "metadata": {},
   "outputs": [],
   "source": [
    "# tratamento de dados faltantes\n",
    "df = df.replace([\"-\"], [np.nan])\n",
    "\n",
    "# conversão para os tipos corretos\n",
    "df[\"Prova 1\"] = df[\"Prova 1\"].astype(float)\n",
    "df[\"Registro Acadêmico\"] = df[\"Registro Acadêmico\"].astype(float)\n",
    "for i in range(1, 4): df[f\"AS{i}\"] = df[f\"AS{i}\"].astype(float)\n",
    "for i in range(1, 5):df[f\"Q{i}\"] = df[f\"Q{i}\"].astype(float)\n",
    "    \n",
    "# desconsiderar pessoas que faltaram na P1\n",
    "df = df[df[\"Prova 1\"] != np.nan]"
   ]
  },
  {
   "cell_type": "markdown",
   "id": "f6134266-470f-4454-9ecc-6b0ec27ef3ae",
   "metadata": {
    "tags": []
   },
   "source": [
    "## Parte II: Desempenho na P1\n",
    "\n",
    "Agora podemos entender melhor o desempenho geral na P1! Vejamos:"
   ]
  },
  {
   "cell_type": "code",
   "execution_count": null,
   "id": "b47526ef-8998-4976-a40b-4e1b55c24878",
   "metadata": {},
   "outputs": [],
   "source": [
    "print(\"Número de reprovações na P1: \", df[df[\"Prova 1\"] < 5][\"Prova 1\"].size)\n",
    "print(\"Número de aprovações na P1: \", df[df[\"Prova 1\"] >= 5][\"Prova 1\"].size)\n",
    "print(\"Média da turma na P1: \", df[\"Prova 1\"].mean().round(2))"
   ]
  },
  {
   "cell_type": "markdown",
   "id": "b87f1015-c5f1-49e4-880d-e7b67a581a0f",
   "metadata": {},
   "source": [
    "Pelos números já conseguimos perceber que a maioria das notas foi abaixo da média, mas podemos visualizar melhor a distribuição das mesmas com um histograma."
   ]
  },
  {
   "cell_type": "code",
   "execution_count": null,
   "id": "79c7d6e3-9fce-4b6c-bbe5-c822e04a1d20",
   "metadata": {},
   "outputs": [],
   "source": [
    "# configurações gerais do matplotlib\n",
    "plt.rcParams.update({\"font.size\": 16})\n",
    "seaborn.set_theme()"
   ]
  },
  {
   "cell_type": "code",
   "execution_count": null,
   "id": "dbce9a4b-7a14-4e2b-82aa-23f78c84d220",
   "metadata": {},
   "outputs": [],
   "source": [
    "# histograma de notas na P1\n",
    "_, ax1 = plt.subplots(1, 1, figsize=(14, 6), dpi=300)\n",
    "ax1.hist(df[df[\"Prova 1\"] < 5][\"Prova 1\"], color=\"lightcoral\", edgecolor=\"black\",bins=range(11), label=\"Reprovações\")\n",
    "ax1.hist(df[df[\"Prova 1\"] >= 5][\"Prova 1\"], color=\"lightblue\", edgecolor=\"black\", bins=range(11), label=\"Aprovações\")\n",
    "ax1.set_xticks(range(11))\n",
    "ax1.set_xlabel(\"Nota\", labelpad=10, fontsize=16)\n",
    "ax1.set_ylabel(\"Contagem\", labelpad=10, fontsize=16)\n",
    "ax1.set_title(\"Distribuição de Notas na P1 de F428\")\n",
    "ax1.legend(loc=\"best\")\n",
    "plt.show()"
   ]
  },
  {
   "cell_type": "markdown",
   "id": "ffd10c81-3525-4025-8199-caf3ff0c95ac",
   "metadata": {},
   "source": [
    "Agora sim, podemos ver claramente que a maioria rodou nessa prova, já que área vermelha (notas abaixo de 5.0) é muito maior é muito maior que a área azul (notas maiores ou iguais a 5.0). Pra entender melhor o tamanho relativo dessas áreas, podemos usar um gráfico de setores."
   ]
  },
  {
   "cell_type": "code",
   "execution_count": null,
   "id": "b4cad5e7-4810-49ec-af27-1090f23de3c2",
   "metadata": {},
   "outputs": [],
   "source": [
    "_, ax2 = plt.subplots(1, 1, dpi=300)\n",
    "ax2.pie([df[df[\"Prova 1\"] >= 5][\"Prova 1\"].size, df[df[\"Prova 1\"] < 5][\"Prova 1\"].size],\n",
    "        labels=[\"Aprovações\", \"Reprovações\"],\n",
    "        colors=[\"lightblue\",\"lightcoral\"],\n",
    "        wedgeprops={\"edgecolor\": \"black\"},\n",
    "        autopct='%1.1f%%')\n",
    "ax2.set_title(\"Porcentagem de Aprovações e Reprovações na P1 de F428\")\n",
    "plt.show()"
   ]
  },
  {
   "cell_type": "markdown",
   "id": "504dc9a8-48ea-4868-b8ef-2b75516cdd04",
   "metadata": {},
   "source": [
    "Menos de um(a) em cada cinco estudantes foi aprovado(a) na P1! Ao que tudo indica, a prova estava difícil mesmo."
   ]
  },
  {
   "cell_type": "markdown",
   "id": "71da3b85-85db-49c5-93fb-8600a8ae0f86",
   "metadata": {
    "tags": []
   },
   "source": [
    "## Parte III: Questões da P1\n",
    "\n",
    "Por que a P1 foi tão difícil? Alguma questão derrubou todo mundo?\n",
    "\n",
    "Um gráfico de barras da média de pontos por questão da P1 mostra resultados ruins para todas as questões da prova. Isso indica que não foi uma questão específica que ultrapassou a dificuldade que esperávamos para essa prova.\n",
    "\n",
    "Percebemos nesse gráfico também uma tendência decrescente na pontuação das questões, possivelmente indicando falta de tempo para completar a prova."
   ]
  },
  {
   "cell_type": "code",
   "execution_count": null,
   "id": "c87102e8-30db-4f41-ae3c-9164b6aeb03e",
   "metadata": {},
   "outputs": [],
   "source": [
    "medias = []\n",
    "questoes = []\n",
    "for i in range(1, 5):\n",
    "    medias.append(df[f\"Q{i}\"].mean())\n",
    "    questoes.append(f\"Q{i}\")\n",
    "\n",
    "    \n",
    "_, ax5 = plt.subplots(1, 1, dpi=300)\n",
    "ax5.set_ylim(0, 2.5)\n",
    "ax5.bar(questoes, medias, color=[\"navajowhite\", \"thistle\", \"paleturquoise\", \"mistyrose\"], edgecolor=\"black\")\n",
    "ax5.set_title(\"Média de Pontos por Questão da P1\")"
   ]
  },
  {
   "cell_type": "markdown",
   "id": "bd127f98-bf63-4c89-bb9e-33b26920029f",
   "metadata": {},
   "source": [
    "## Parte IV: Desempenho nas AS\n",
    "\n",
    "Okay, okay, já entendemos: a P1 estava difícil! Mas será que ela estava \"fora do padrão\"? Ou seja, será que as avaliações anteriores não nos prepararam para esse nível de dificuldade?\n",
    "\n",
    "Para responder a essa pergunta, precisamos analisar nosso desempenho nas Avaliações Simplificadas (AS). Vamos direto a um histograma das médias nas três avaliações simplificadas que já tivemos."
   ]
  },
  {
   "cell_type": "code",
   "execution_count": null,
   "id": "52567173-aa86-4bdf-89da-cef0f3e8b945",
   "metadata": {},
   "outputs": [],
   "source": [
    "df[\"Média AS\"] = (df[\"AS1\"] + df[\"AS2\"] + df[\"AS3\"])/3"
   ]
  },
  {
   "cell_type": "code",
   "execution_count": null,
   "id": "f471ef35-d7f8-4c2a-9c14-ab17d384fd5b",
   "metadata": {},
   "outputs": [],
   "source": [
    "_, ax3 = plt.subplots(1, 1, figsize=(14, 6), dpi=300)\n",
    "ax3.hist(df[df[\"Média AS\"] < 5][\"Média AS\"], color=\"lightcoral\", edgecolor=\"black\", label=\"Reprovações\", bins=range(11))\n",
    "ax3.hist(df[df[\"Média AS\"] >= 5][\"Média AS\"], color=\"lightblue\", edgecolor=\"black\", label=\"Aprovações\", bins=range(11))\n",
    "ax3.set_xticks(range(11))\n",
    "ax3.set_xlabel(\"Nota\", labelpad=10, fontsize=16)\n",
    "ax3.set_ylabel(\"Estudantes\", labelpad=10, fontsize=16)\n",
    "ax3.set_title(\"Distribuição de Médias em AS de F428\")\n",
    "ax3.legend(loc=\"best\")\n",
    "plt.show()"
   ]
  },
  {
   "cell_type": "markdown",
   "id": "40d89aa6-1ea1-4f69-8b12-14f61d4722b5",
   "metadata": {},
   "source": [
    "Pelo jeito, fomos muito bem nas AS! A maior parte da área do gráfico é azul, indicando que a maiorias das pessoas está com média acima de 5.0 nas Avaliações Simplificadas.\n",
    "\n",
    "Além disso, o intervalo mais comum de médias em AS foi [7.0, 8.0] enquanto o intervalo mais comum de notas da P1 foi [1.0, 2.0].\n",
    "\n",
    "Essa diferença de desempenho fica ainda mais clara se colocamos os dois histogramas no mesmo gráfico:"
   ]
  },
  {
   "cell_type": "code",
   "execution_count": null,
   "id": "cf760b49-85dc-4abe-a5ac-414376b9eada",
   "metadata": {},
   "outputs": [],
   "source": [
    "_, ax4 = plt.subplots(1, 1, figsize=(14, 6), dpi=300)\n",
    "ax4.hist([df[\"Média AS\"], df[\"Prova 1\"]], color=[\"navajowhite\", \"thistle\"], label=[\"Médias em AS\", \"Notas na P1\"], edgecolor=\"black\",bins=range(11))\n",
    "ax4.set_xticks(range(11))\n",
    "ax4.set_xlabel(\"Nota\", labelpad=10, fontsize=16)\n",
    "ax4.set_ylabel(\"Estudantes\", labelpad=10, fontsize=16)\n",
    "ax4.set_title(\"Comparação de Notas na P1 e Médias em AS de F428\")\n",
    "ax4.legend(loc=\"best\")\n",
    "plt.show()"
   ]
  },
  {
   "cell_type": "markdown",
   "id": "c848c66b-a3d9-4c23-9832-fd57db892c5b",
   "metadata": {},
   "source": [
    "## Parte V: Comparação entre Turmas\n",
    "\n",
    "Nesse momento, eu comecei a me questionar se dei azar com o meu PED (professor(a) assistente).\n",
    "\n",
    "Cada PED se dedica exclusivamente a uma turma, então podemos correlacionar a qualidade do ensino dos(as) PEDs com as notas na P1 dos(as) estudantes de suas respectivas turmas. "
   ]
  },
  {
   "cell_type": "code",
   "execution_count": null,
   "id": "f804b458-4dc3-4151-92f8-4d63d5af62cb",
   "metadata": {},
   "outputs": [],
   "source": [
    "fig, axs = plt.subplots(2, 2, figsize=(8, 8))\n",
    "fig.suptitle(\"Comparação de Desempenho na P1 entre Turmas\")\n",
    "\n",
    "turmas = [\"A\", \"C\", \"E\", \"H\"]\n",
    "for t in turmas:\n",
    "    turma = df[df[\"Turma\"] == t]\n",
    "    axs[turmas.index(t)%2, turmas.index(t)//2].pie([turma[turma[\"Prova 1\"] >= 5][\"Prova 1\"].size, turma[turma[\"Prova 1\"] < 5][\"Prova 1\"].size],\n",
    "            colors=[\"lightblue\",\"lightcoral\"],\n",
    "            wedgeprops={\"edgecolor\": \"black\"},\n",
    "            autopct='%1.1f%%')\n",
    "    axs[turmas.index(t)%2, turmas.index(t)//2].set_title(f\"Turma {t}\")"
   ]
  },
  {
   "cell_type": "markdown",
   "id": "98f944a0-a7d4-4a48-9199-1273d6b7e747",
   "metadata": {},
   "source": [
    "Apesar do desempenho levemente melhor da turma A, parece que as notas na P1 foram baixas em todas as turmas."
   ]
  },
  {
   "cell_type": "markdown",
   "id": "c937de81-f4eb-448e-a877-3ce7ea81037b",
   "metadata": {},
   "source": [
    "## Parte VI: Possíveis Soluções\n",
    "\n",
    "Uma maneira de arrumar as notas para que não fôssemos muito prejudicados é usando normalização.\n",
    "\n",
    "As notas podem ser normalizadas com relação à maior nota ou com relação à média das notas. A maior nota na P1 foi 10, então normalização com relação à maior nota não teria efeito. No entanto, a média das notas na P1 foi bem abaixo de 5.0 então podemos usá-la.\n",
    "\n",
    "A fórmula para fazer isso é:\n",
    "\n",
    "$$\n",
    "n_{norm} = \\frac{n}{\\bar{n}} * 5.0\n",
    "$$\n",
    "\n",
    "Para conferir seria sua nota normalizada na P1, basta colocar seu RA no campo abaixo."
   ]
  },
  {
   "cell_type": "code",
   "execution_count": null,
   "id": "bccfcd8d-c2c7-4f06-8be5-f5e3d77c672f",
   "metadata": {},
   "outputs": [],
   "source": [
    "ra_textbox = widgets.FloatText(description=\"RA\")\n",
    "out_norm = widgets.Output(layout={'border': '1px solid black'})\n",
    "\n",
    "def normalize_grade(change):\n",
    "    ra = ra_textbox.value\n",
    "    nota_P1 = df[df[\"Registro Acadêmico\"] == ra][\"Prova 1\"].values[0]\n",
    "    nota_norm = (nota_P1/df[\"Prova 1\"].mean()) * 5\n",
    "    out_norm.clear_output()\n",
    "    with out_norm:\n",
    "        print(\"Nota original na P1: \", nota_P1.round(1))\n",
    "        print(\"Nota normalizada na P1: \", nota_norm.round(1))\n",
    "        \n",
    "ra_textbox.observe(normalize_grade, \"value\")\n",
    "        \n",
    "layout_norm = widgets.VBox([ra_textbox, out_norm])\n",
    "layout_norm"
   ]
  },
  {
   "cell_type": "markdown",
   "id": "e2b741ce-a267-4118-ad44-54a8dbc87a56",
   "metadata": {},
   "source": [
    "## Parte VII: E a \"Média 7\"?\n",
    "\n",
    "Com a discussão da possível volta da \"Média 7\" no IFGW, achei interessante modelar o que aconteceria caso ela já tivesse sido adotada nesse semestre.\n",
    "\n",
    "O gráfico abaixo mostra que, nesse cenário hipotético, aproximadamente dois terços dos(as) estudantes teriam que necessariamente fazer o exame para passar em F428."
   ]
  },
  {
   "cell_type": "code",
   "execution_count": null,
   "id": "c4997a25-f73b-4d3f-89da-ae32432aa180",
   "metadata": {},
   "outputs": [],
   "source": [
    "df[\"Média AS Máxima\"] = df[\"Média AS\"] * 0.6 + 10 * 0.4\n",
    "\n",
    "df[\"Média Final Máxima\"] = 0.10 * df[\"Média AS Máxima\"] + 0.45 * df[\"Prova 1\"] + 0.45 * 10\n",
    "_, ax6 = plt.subplots(1, 1, dpi=300)\n",
    "\n",
    "ax6.pie([df[df[\"Média Final Máxima\"] >= 7][\"Média Final Máxima\"].size, df[df[\"Média Final Máxima\"] < 7][\"Média Final Máxima\"].size],\n",
    "        labels=[\"\\\"Férias em Novembro\\\"\", \"\\\"Exame é P3\\\"\"],\n",
    "        wedgeprops={\"edgecolor\": \"black\"},\n",
    "        autopct='%1.1f%%')\n",
    "ax6.set_title(\"Porcentagem de Estudantes em Exame (média = 7)\")\n",
    "plt.show()"
   ]
  },
  {
   "cell_type": "markdown",
   "id": "d5ee417f-9298-4861-8559-feef006a40da",
   "metadata": {},
   "source": [
    "## Parte VIII: Ainda há Esperança\n",
    "\n",
    "Felizmente, a média não é 7! Sendo assim, todos ainda tem chance de evitar o exame e sair de férias mais cedo.\n",
    "\n",
    "Com isso em mente, fiz esse simulador que calcula a nota que você precisa tirar na P2 pra atingir a média final que você quiser, com base nas suas notas atuais e na sua previsão para as próximas Avaliações Simplificadas. Aproveitem!"
   ]
  },
  {
   "cell_type": "code",
   "execution_count": null,
   "id": "8e73e4c5-55c3-4d73-af2a-b52317fcf905",
   "metadata": {},
   "outputs": [],
   "source": [
    "def media_final(media_AS:float, nota_P1:float, nota_P2:float):\n",
    "    return media_AS * 0.10 + nota_P1 * 0.45 + nota_P2 * 0.45"
   ]
  },
  {
   "cell_type": "code",
   "execution_count": null,
   "id": "5169075f-9d10-4e77-8145-396470e2987e",
   "metadata": {},
   "outputs": [],
   "source": [
    "media_AS_slider = widgets.FloatSlider(description='Média AS Esperada', value=0, min=0, max=10, step=.1, readout_format = \".1f\", disabled=True)\n",
    "media_final_slider = widgets.FloatSlider(description='Média Final Desejada', value=5, min=0, max=10, step=.1, readout_format = \".1f\", disabled=True)\n",
    "out_hope = widgets.Output(layout={'border': '1px solid black'})\n",
    "\n",
    "def update_bounds(change):\n",
    "    ra = ra_textbox.value\n",
    "    \n",
    "    media_AS = df[df[\"Registro Acadêmico\"] == ra][\"Média AS\"]    \n",
    "    media_AS_slider.max = (media_AS*3 + 10*2)/5\n",
    "    media_AS_slider.min = (media_AS*3 + 0*2)/5\n",
    "    media_AS_slider.disabled = False\n",
    "    \n",
    "    nota_P1 = df[df[\"Registro Acadêmico\"] == ra][\"Prova 1\"]\n",
    "    media_final_slider.max = media_final(media_AS, nota_P1, 10)\n",
    "    media_final_slider.min = media_final(media_AS, nota_P1, 0)\n",
    "    media_final_slider.disabled = False\n",
    "\n",
    "ra_textbox.observe(update_bounds, \"value\")\n",
    "\n",
    "def update_media_final_bounds(change):\n",
    "    ra = ra_textbox.value\n",
    "    nota_P1 = df[df[\"Registro Acadêmico\"] == ra][\"Prova 1\"]\n",
    "    media_final_slider.max = media_final(media_AS_slider.value, nota_P1, 10)\n",
    "    media_final_slider.min = media_final(media_AS_slider.value, nota_P1, 0)\n",
    "\n",
    "media_AS_slider.observe(update_media_final_bounds, \"value\")\n",
    "\n",
    "def update_nota_P2(change):\n",
    "    ra = ra_textbox.value\n",
    "    nota_P1 = df[df[\"Registro Acadêmico\"] == ra][\"Prova 1\"].values[0]\n",
    "    nota_P2 = (media_final_slider.value - 0.10 * media_AS_slider.value - 0.45 * nota_P1)/0.45\n",
    "    out_hope.clear_output()\n",
    "    with out_hope:\n",
    "        print(\"Nota necessária na P2: \", nota_P2.round(1))\n",
    "\n",
    "media_AS_slider.observe(update_nota_P2, \"value\")\n",
    "media_final_slider.observe(update_nota_P2, \"value\")\n",
    "    \n",
    "layout_hope = widgets.VBox([ra_textbox, media_AS_slider, media_final_slider, out_hope])\n",
    "layout_hope"
   ]
  }
 ],
 "metadata": {
  "kernelspec": {
   "display_name": "analise-de-notas-f429",
   "language": "python",
   "name": "analise-de-notas-f429"
  },
  "language_info": {
   "codemirror_mode": {
    "name": "ipython",
    "version": 3
   },
   "file_extension": ".py",
   "mimetype": "text/x-python",
   "name": "python",
   "nbconvert_exporter": "python",
   "pygments_lexer": "ipython3",
   "version": "3.10.5"
  },
  "vscode": {
   "interpreter": {
    "hash": "20001bb80d7d4e60dfe59eacbdf1496bdf8d726e4d36f31bc3c86a827cd6ffc3"
   }
  }
 },
 "nbformat": 4,
 "nbformat_minor": 5
}
